{
 "cells": [
  {
   "cell_type": "markdown",
   "metadata": {},
   "source": [
    "# Code to plot Gerschgorin disks and eigenvalues of a matrix"
   ]
  },
  {
   "cell_type": "markdown",
   "metadata": {},
   "source": [
    "### Import packages"
   ]
  },
  {
   "cell_type": "code",
   "execution_count": 51,
   "metadata": {},
   "outputs": [],
   "source": [
    "import numpy as np\n",
    "from numpy import linalg as LA\n",
    "import matplotlib\n",
    "from matplotlib.patches import Circle\n",
    "from matplotlib.collections import PatchCollection\n",
    "import matplotlib.pyplot as plt"
   ]
  },
  {
   "cell_type": "markdown",
   "metadata": {},
   "source": [
    "### define function to plot the disks"
   ]
  },
  {
   "cell_type": "code",
   "execution_count": 68,
   "metadata": {},
   "outputs": [],
   "source": [
    "def plotGerschgorinDisks(A):\n",
    "\n",
    "    n = len(A) # compute size of A\n",
    "    eigval, eigvec = LA.eig(A) # compute eigenvalues of A\n",
    "\n",
    "    patches = []\n",
    "    \n",
    "    for i in range(n): # draw discs\n",
    "        xi = np.real(A[i,i]) # x coordinate center\n",
    "        yi = np.imag(A[i,i]) # y coordinate center\n",
    "        ri = np.sum(np.abs(A[i,:])) - np.abs(A[i,i]) # radius\n",
    "        disk = Circle((xi, yi), ri) # create disk\n",
    "        patches.append(disk)\n",
    "\n",
    "    fig, ax = plt.subplots()\n",
    "    \n",
    "    shaded_disks = PatchCollection(patches, alpha=0.2) # create shaded disks\n",
    "    ax.add_collection(shaded_disks)\n",
    "    plt.axis('equal')\n",
    "    plt.grid(True) # add a grid to the plot\n",
    "    \n",
    "    for xi, yi in zip(np.real(eigval), np.imag(eigval)):\n",
    "        plt.plot(xi, yi,'o',markersize=10)"
   ]
  },
  {
   "cell_type": "markdown",
   "metadata": {},
   "source": [
    "### define matrix and plot the disks/eigenvalues"
   ]
  },
  {
   "cell_type": "code",
   "execution_count": 69,
   "metadata": {},
   "outputs": [
    {
     "data": {
      "image/png": "[encoded data removed]",
      "text/plain": [
       "<Figure size 432x288 with 1 Axes>"
      ]
     },
     "metadata": {
      "needs_background": "light"
     },
     "output_type": "display_data"
    }
   ],
   "source": [
    "A = np.matrix([[1, -5, 1], [-3, 3, -3], [-1,-1,-1]])\n",
    "\n",
    "plotGerschgorinDisks(A)\n",
    "plt.show()"
   ]
  },
  {
   "cell_type": "code",
   "execution_count": null,
   "metadata": {},
   "outputs": [],
   "source": []
  }
 ],
 "metadata": {
  "kernelspec": {
   "display_name": "Python 3",
   "language": "python",
   "name": "python3"
  },
  "language_info": {
   "codemirror_mode": {
    "name": "ipython",
    "version": 3
   },
   "file_extension": ".py",
   "mimetype": "text/x-python",
   "name": "python",
   "nbconvert_exporter": "python",
   "pygments_lexer": "ipython3",
   "version": "3.7.3"
  }
 },
 "nbformat": 4,
 "nbformat_minor": 4
}
